{
 "cells": [
  {
   "cell_type": "code",
   "execution_count": 1,
   "metadata": {
    "collapsed": true,
    "ExecuteTime": {
     "end_time": "2023-10-08T17:34:05.943613Z",
     "start_time": "2023-10-08T17:34:05.937074Z"
    }
   },
   "outputs": [],
   "source": [
    "from collections import defaultdict\n",
    "\n",
    "def borda_count(matrix):\n",
    "    num_candidates = len(matrix[0])\n",
    "    num_voters = len(matrix)\n",
    "\n",
    "    # Initialize the score dictionary for each candidate\n",
    "    score = defaultdict(int)\n",
    "\n",
    "    # Calculate Borda scores\n",
    "    for voter in matrix:\n",
    "        for rank, candidate in enumerate(voter):\n",
    "            score[candidate] += num_candidates - rank - 1\n",
    "\n",
    "    # Convert the score dictionary to a list of tuples\n",
    "    sorted_score = sorted(score.items(), key=lambda x: (-x[1], x[0]))\n",
    "\n",
    "    # Calculate ranks for each candidate\n",
    "    rank = 1\n",
    "    last_score = None\n",
    "    result = defaultdict(list)\n",
    "    for candidate, candidate_score in sorted_score:\n",
    "        if candidate_score == last_score:\n",
    "            result[rank].append(candidate)\n",
    "        else:\n",
    "            rank += 1\n",
    "            result[rank].append(candidate)\n",
    "            last_score = candidate_score\n",
    "\n",
    "    # Convert the result to a list of ranks\n",
    "    final_result = [result[rank] for rank in sorted(result.keys())]\n",
    "\n",
    "    return final_result\n"
   ]
  },
  {
   "cell_type": "code",
   "execution_count": 7,
   "outputs": [],
   "source": [
    "matrix = [\n",
    "    ['A', 'B', 'C'],\n",
    "    ['B', 'C', 'A'],\n",
    "    ['C', 'B', 'A'],\n",
    "    ['A', 'C', 'B']\n",
    "]"
   ],
   "metadata": {
    "collapsed": false,
    "ExecuteTime": {
     "end_time": "2023-10-08T17:43:55.149293Z",
     "start_time": "2023-10-08T17:43:55.125196Z"
    }
   }
  },
  {
   "cell_type": "code",
   "execution_count": null,
   "outputs": [],
   "source": [
    "borda_scores = borda_count(matrix)\n",
    "for rank, candidates in enumerate(borda_scores, start=1):\n",
    "    print(f\"Rank {rank}: {', '.join(candidates)}\")"
   ],
   "metadata": {
    "collapsed": false
   }
  },
  {
   "cell_type": "code",
   "execution_count": 1,
   "outputs": [],
   "source": [
    "from collections import defaultdict\n",
    "\n",
    "def borda_count_from_ordinal(matrix):\n",
    "    num_candidates = len(matrix[0])\n",
    "    num_voters = len(matrix)\n",
    "\n",
    "    # Initialize the score dictionary for each candidate\n",
    "    score = defaultdict(int)\n",
    "\n",
    "    # Calculate Borda scores\n",
    "    for voter_rankings in matrix:\n",
    "        for candidate, rank in enumerate(voter_rankings, start=1):\n",
    "            score[candidate] += num_candidates - rank\n",
    "\n",
    "    # Convert the score dictionary to a list of tuples\n",
    "    sorted_score = sorted(score.items(), key=lambda x: (-x[1], x[0]))\n",
    "\n",
    "    # Calculate ranks for each candidate\n",
    "    rank = 1\n",
    "    last_score = None\n",
    "    result = defaultdict(list)\n",
    "    for candidate, candidate_score in sorted_score:\n",
    "        if candidate_score == last_score:\n",
    "            result[rank].append(candidate)\n",
    "        else:\n",
    "            rank += 1\n",
    "            result[rank].append(candidate)\n",
    "            last_score = candidate_score\n",
    "\n",
    "    # Convert the result to a list of ranks\n",
    "    final_result = [result[rank] for rank in sorted(result.keys())]\n",
    "\n",
    "    return final_result\n"
   ],
   "metadata": {
    "collapsed": false,
    "ExecuteTime": {
     "end_time": "2023-10-08T17:48:35.503908Z",
     "start_time": "2023-10-08T17:48:35.495261Z"
    }
   }
  },
  {
   "cell_type": "code",
   "execution_count": 2,
   "outputs": [],
   "source": [
    "matrix = [\n",
    "    [1, 2, 3],  # Voter 1 ranks candidates 1st, 2nd, and 3rd\n",
    "    [3, 2, 1],  # Voter 2 ranks candidates 3rd, 2nd, and 1st\n",
    "    [2, 1, 3],  # Voter 3 ranks candidates 2nd, 1st, and 3rd\n",
    "    []\n",
    "]"
   ],
   "metadata": {
    "collapsed": false,
    "ExecuteTime": {
     "end_time": "2023-10-08T17:48:37.577331Z",
     "start_time": "2023-10-08T17:48:37.567065Z"
    }
   }
  },
  {
   "cell_type": "code",
   "execution_count": 4,
   "outputs": [
    {
     "name": "stdout",
     "output_type": "stream",
     "text": [
      "Rank 1: 2\n",
      "Rank 2: 1\n",
      "Rank 3: 3\n"
     ]
    }
   ],
   "source": [
    "borda_scores = borda_count_from_ordinal(matrix)\n",
    "for rank, candidates in enumerate(borda_scores, start=1):\n",
    "    print(f\"Rank {rank}: {', '.join(map(str, candidates))}\")\n"
   ],
   "metadata": {
    "collapsed": false,
    "ExecuteTime": {
     "end_time": "2023-10-08T17:49:29.043804Z",
     "start_time": "2023-10-08T17:49:29.040736Z"
    }
   }
  },
  {
   "cell_type": "code",
   "execution_count": null,
   "outputs": [],
   "source": [],
   "metadata": {
    "collapsed": false
   }
  }
 ],
 "metadata": {
  "kernelspec": {
   "display_name": "Python 3",
   "language": "python",
   "name": "python3"
  },
  "language_info": {
   "codemirror_mode": {
    "name": "ipython",
    "version": 2
   },
   "file_extension": ".py",
   "mimetype": "text/x-python",
   "name": "python",
   "nbconvert_exporter": "python",
   "pygments_lexer": "ipython2",
   "version": "2.7.6"
  }
 },
 "nbformat": 4,
 "nbformat_minor": 0
}
